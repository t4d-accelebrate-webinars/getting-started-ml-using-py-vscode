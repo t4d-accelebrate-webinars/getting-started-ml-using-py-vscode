{
 "cells": [
  {
   "cell_type": "markdown",
   "metadata": {},
   "source": [
    "# Going a Step Beyond using Support Vector Machines"
   ]
  },
  {
   "cell_type": "markdown",
   "metadata": {},
   "source": [
    "## Kernel exemplification"
   ]
  },
  {
   "cell_type": "code",
   "execution_count": 1,
   "metadata": {
    "collapsed": true
   },
   "outputs": [],
   "source": [
    "import numpy as np\n",
    "X = np.array([[1,2,3],[3,2,1]])\n",
    "def poly_expansion(A):\n",
    "    return np.array([[x*y for x in \n",
    "        row for y in row] for row in A])"
   ]
  },
  {
   "cell_type": "code",
   "execution_count": 2,
   "metadata": {
    "collapsed": false
   },
   "outputs": [
    {
     "name": "stdout",
     "output_type": "stream",
     "text": [
      "Dimensions after expanding: (2, 9)\n",
      "[[1 2 3 2 4 6 3 6 9]\n",
      " [9 6 3 6 4 2 3 2 1]]\n"
     ]
    }
   ],
   "source": [
    "poly_X = poly_expansion(X)\n",
    "print ('Dimensions after expanding: %s' % str(poly_X.shape))\n",
    "print (poly_X)"
   ]
  },
  {
   "cell_type": "code",
   "execution_count": 3,
   "metadata": {
    "collapsed": false
   },
   "outputs": [
    {
     "data": {
      "text/plain": [
       "100"
      ]
     },
     "execution_count": 3,
     "metadata": {},
     "output_type": "execute_result"
    }
   ],
   "source": [
    "np.dot(poly_X[0],poly_X[1])"
   ]
  },
  {
   "cell_type": "code",
   "execution_count": 4,
   "metadata": {
    "collapsed": false
   },
   "outputs": [
    {
     "data": {
      "text/plain": [
       "100"
      ]
     },
     "execution_count": 4,
     "metadata": {},
     "output_type": "execute_result"
    }
   ],
   "source": [
    "def poly_kernel(a, b):\n",
    "    return np.sum(a*b)**2\n",
    "\n",
    "poly_kernel(X[0], X[1])"
   ]
  },
  {
   "cell_type": "markdown",
   "metadata": {
    "collapsed": true
   },
   "source": [
    "# Classifying handwritten digits"
   ]
  },
  {
   "cell_type": "code",
   "execution_count": 5,
   "metadata": {
    "collapsed": false
   },
   "outputs": [],
   "source": [
    "import matplotlib.pyplot as plt\n",
    "import matplotlib as mpl\n",
    "from sklearn.datasets import load_digits\n",
    "import numpy as np\n",
    "import random\n",
    "\n",
    "digits = load_digits()\n",
    "X,y = digits.data, digits.target"
   ]
  },
  {
   "cell_type": "code",
   "execution_count": 6,
   "metadata": {
    "collapsed": false
   },
   "outputs": [
    {
     "data": {
      "image/png": "[encoded data removed]",
      "text/plain": [
       "<matplotlib.figure.Figure at 0x7df9438>"
      ]
     },
     "metadata": {},
     "output_type": "display_data"
    }
   ],
   "source": [
    "%matplotlib inline\n",
    "random_examples = [random.randint(0,len(digits.images)) \n",
    "                   for i in range(10)]\n",
    "for n,number in enumerate(random_examples):\n",
    "    plt.subplot(2, 5, n+1)\n",
    "    plt.imshow(digits.images[number],cmap='binary',\n",
    "               interpolation='none', extent=[0,8,0,8])\n",
    "    plt.grid()\n",
    "plt.show()"
   ]
  },
  {
   "cell_type": "code",
   "execution_count": 7,
   "metadata": {
    "collapsed": false
   },
   "outputs": [],
   "source": [
    "from sklearn.cross_validation import train_test_split\n",
    "from sklearn.cross_validation import cross_val_score\n",
    "from sklearn.preprocessing import MinMaxScaler\n",
    "# We keep 30% random examples for test\n",
    "X_train, X_test, y_train, y_test = train_test_split(X,\n",
    "                    y, test_size=0.3, random_state=101)\n",
    "# We scale the data in the range [-1,1]\n",
    "scaling = MinMaxScaler(feature_range=(-1, 1)).fit(X_train)\n",
    "X_train = scaling.transform(X_train)\n",
    "X_test  = scaling.transform(X_test)"
   ]
  },
  {
   "cell_type": "code",
   "execution_count": 8,
   "metadata": {
    "collapsed": false
   },
   "outputs": [
    {
     "name": "stdout",
     "output_type": "stream",
     "text": [
      "Cross-validation accuracy score: 0.981, test accuracy score: 0.985\n"
     ]
    }
   ],
   "source": [
    "from sklearn.svm import SVC\n",
    "svm = SVC()\n",
    "cv_performance = cross_val_score(svm, X_train, y_train, cv=10)\n",
    "test_performance = svm.fit(X_train, y_train).score(X_test, y_test)\n",
    "print ('Cross-validation accuracy score: %0.3f, test accuracy score: %0.3f' %\n",
    "       (np.mean(cv_performance),test_performance))"
   ]
  },
  {
   "cell_type": "code",
   "execution_count": 9,
   "metadata": {
    "collapsed": false
   },
   "outputs": [
    {
     "name": "stdout",
     "output_type": "stream",
     "text": [
      "Best parameter: {'gamma': 0.10000000000000001, 'kernel': 'rbf', 'C': 1.0}\n",
      "Cross-validation accuracy score: 0.988, test accuracy score: 0.987\n"
     ]
    }
   ],
   "source": [
    "from sklearn.grid_search import GridSearchCV\n",
    "import numpy as np\n",
    "learning_algo = SVC(kernel='linear', random_state=101)\n",
    "search_space = [{'kernel': ['linear'], \n",
    "                 'C': np.logspace(-3, 3, 7)},\n",
    "                {'kernel': ['rbf'], \n",
    "                 'C':np.logspace(-3, 3, 7), \n",
    "                 'gamma': np.logspace(-3, 2, 6)}]\n",
    "gridsearch = GridSearchCV(learning_algo, \n",
    "                          param_grid=search_space, \n",
    "                          refit=True, cv=10)\n",
    "gridsearch.fit(X_train,y_train)\n",
    "print ('Best parameter: %s' % str(gridsearch.best_params_))\n",
    "cv_performance = gridsearch.best_score_\n",
    "test_performance = gridsearch.score(X_test, y_test)\n",
    "print ('Cross-validation accuracy score: %0.3f, test accuracy score: %0.3f' %\n",
    "       (cv_performance,test_performance))"
   ]
  },
  {
   "cell_type": "code",
   "execution_count": 12,
   "metadata": {
    "collapsed": false
   },
   "outputs": [
    {
     "data": {
      "image/png": "[encoded data removed]",
      "text/plain": [
       "<matplotlib.figure.Figure at 0xaace48>"
      ]
     },
     "metadata": {},
     "output_type": "display_data"
    }
   ],
   "source": [
    "prediction = gridsearch.predict(X_test)\n",
    "wrong_prediction = (prediction!=y_test)\n",
    "test_digits = scaling.inverse_transform(X_test)\n",
    "for n,(number,yp,yt) in enumerate(zip(\n",
    "    scaling.inverse_transform(X_test)[wrong_prediction], \n",
    "    prediction[wrong_prediction],\n",
    "        y_test[wrong_prediction])):\n",
    "    plt.subplot(2, 5, n+1)\n",
    "    plt.imshow(number.reshape((8,8)),cmap='binary',\n",
    "               interpolation='none',\n",
    "               extent=[0,8,0,8])\n",
    "    plt.title('pred:'+str(yp)+\"!=\"+str(yt))\n",
    "    plt.grid()\n",
    "plt.show()"
   ]
  }
 ],
 "metadata": {
  "kernelspec": {
   "display_name": "Python 3",
   "language": "python",
   "name": "python3"
  },
  "language_info": {
   "codemirror_mode": {
    "name": "ipython",
    "version": 3
   },
   "file_extension": ".py",
   "mimetype": "text/x-python",
   "name": "python",
   "nbconvert_exporter": "python",
   "pygments_lexer": "ipython3",
   "version": "3.4.4"
  }
 },
 "nbformat": 4,
 "nbformat_minor": 0
}
